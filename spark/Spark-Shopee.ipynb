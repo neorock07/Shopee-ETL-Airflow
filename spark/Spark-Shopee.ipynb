{
 "cells": [
  {
   "cell_type": "code",
   "execution_count": 0,
   "metadata": {
    "application/vnd.databricks.v1+cell": {
     "cellMetadata": {
      "byteLimit": 2048000,
      "rowLimit": 10000
     },
     "inputWidgets": {},
     "nuid": "311d67a5-04d3-4935-9b69-a2d95fae1b46",
     "showTitle": false,
     "tableResultSettingsMap": {},
     "title": ""
    }
   },
   "outputs": [],
   "source": [
    "from pyspark.sql.functions import col, split, regexp_replace, when, lit, to_date\n",
    "\n",
    "storage_account_name = \"shopee2\"\n",
    "container_name = \"shopee-sales2\"\n",
    "file_name = \"20240121_shopee_sample_data (1).csv\"\n",
    "output_folder = \"shopee_clean\"\n",
    "blob_path = f\"abfss://{container_name}@{storage_account_name}.dfs.core.windows.net/{file_name}\"\n",
    "output_path = f\"abfss://{container_name}@{storage_account_name}.dfs.core.windows.net/{output_folder}\"\n"
   ]
  },
  {
   "cell_type": "code",
   "execution_count": 0,
   "metadata": {
    "application/vnd.databricks.v1+cell": {
     "cellMetadata": {},
     "inputWidgets": {},
     "nuid": "9833d50b-ed44-4694-8ba6-01a03bbc744e",
     "showTitle": false,
     "tableResultSettingsMap": {},
     "title": ""
    }
   },
   "outputs": [],
   "source": [
    "spark.version"
   ]
  },
  {
   "cell_type": "code",
   "execution_count": 0,
   "metadata": {
    "application/vnd.databricks.v1+cell": {
     "cellMetadata": {
      "byteLimit": 2048000,
      "rowLimit": 10000
     },
     "inputWidgets": {},
     "nuid": "c3f8a16b-501c-40b4-bb0d-d91e64f21471",
     "showTitle": false,
     "tableResultSettingsMap": {},
     "title": ""
    }
   },
   "outputs": [
    {
     "name": "stdout",
     "output_type": "stream",
     "text": [
      "[Truncated to first 65536 bytes]\n",
      "<class 'str'>\n"
     ]
    }
   ],
   "source": [
    "file_content = dbutils.fs.head(\n",
    "    blob_path\n",
    ")\n",
    "print(type(file_content))"
   ]
  },
  {
   "cell_type": "markdown",
   "metadata": {},
   "source": [
    "## Check Size of Data"
   ]
  },
  {
   "cell_type": "code",
   "execution_count": 0,
   "metadata": {
    "application/vnd.databricks.v1+cell": {
     "cellMetadata": {
      "byteLimit": 2048000,
      "rowLimit": 10000
     },
     "inputWidgets": {},
     "nuid": "a557abb7-37e2-4a5f-be9f-402377cb69de",
     "showTitle": false,
     "tableResultSettingsMap": {},
     "title": ""
    }
   },
   "outputs": [
    {
     "name": "stdout",
     "output_type": "stream",
     "text": [
      "Ukuran : 375300\n"
     ]
    }
   ],
   "source": [
    "df = spark.read.csv(blob_path, header=True, inferSchema=True)\n",
    "print(f\"Ukuran : {df.count()}\")"
   ]
  },
  {
   "cell_type": "markdown",
   "metadata": {},
   "source": [
    "## Scheme Data"
   ]
  },
  {
   "cell_type": "code",
   "execution_count": 0,
   "metadata": {
    "application/vnd.databricks.v1+cell": {
     "cellMetadata": {
      "byteLimit": 2048000,
      "rowLimit": 10000
     },
     "inputWidgets": {},
     "nuid": "3bcbcd6f-efba-4777-9ae4-236f3c0f0ccf",
     "showTitle": false,
     "tableResultSettingsMap": {},
     "title": ""
    }
   },
   "outputs": [
    {
     "name": "stdout",
     "output_type": "stream",
     "text": [
      "root\n",
      " |-- price_ori: string (nullable = true)\n",
      " |-- delivery: string (nullable = true)\n",
      " |-- item_category_detail: string (nullable = true)\n",
      " |-- specification: string (nullable = true)\n",
      " |-- title: string (nullable = true)\n",
      " |-- w_date: string (nullable = true)\n",
      " |-- link_ori: string (nullable = true)\n",
      " |-- item_rating: string (nullable = true)\n",
      " |-- seller_name: string (nullable = true)\n",
      " |-- idElastic: string (nullable = true)\n",
      " |-- price_actual: string (nullable = true)\n",
      " |-- sitename: string (nullable = true)\n",
      " |-- idHash: string (nullable = true)\n",
      " |-- total_rating: string (nullable = true)\n",
      " |-- id: string (nullable = true)\n",
      " |-- total_sold: string (nullable = true)\n",
      " |-- pict_link: string (nullable = true)\n",
      " |-- favorite: string (nullable = true)\n",
      " |-- timestamp: string (nullable = true)\n",
      " |-- desc: string (nullable = true)\n",
      "\n"
     ]
    }
   ],
   "source": [
    "df.printSchema()"
   ]
  },
  {
   "cell_type": "markdown",
   "metadata": {
    "application/vnd.databricks.v1+cell": {
     "cellMetadata": {
      "byteLimit": 2048000,
      "rowLimit": 10000
     },
     "inputWidgets": {},
     "nuid": "4e2c9a21-1092-4100-992a-ce81d910a98c",
     "showTitle": false,
     "tableResultSettingsMap": {},
     "title": ""
    }
   },
   "source": [
    "#### Memisahkan kolom item_category_detail menjadi main, sub, spesifik category"
   ]
  },
  {
   "cell_type": "code",
   "execution_count": 0,
   "metadata": {
    "application/vnd.databricks.v1+cell": {
     "cellMetadata": {
      "byteLimit": 2048000,
      "rowLimit": 10000
     },
     "inputWidgets": {},
     "nuid": "4dafba8c-0f1b-4fc3-8d02-eb98aa6281dc",
     "showTitle": false,
     "tableResultSettingsMap": {},
     "title": ""
    }
   },
   "outputs": [
    {
     "name": "stdout",
     "output_type": "stream",
     "text": [
      "+-----------------------------------------------------------------------------------------------------------+\n",
      "|item_category_detail                                                                                       |\n",
      "+-----------------------------------------------------------------------------------------------------------+\n",
      "|Shopee | Home & Living | Home Decor | Curtains & Blinds                                                    |\n",
      "| we will solve it.                                                                                         |\n",
      "|000 hours of Full HD video recording (32GB)4                                                               |\n",
      "|Shopee | Mobile & Accessories | Others | Others                                                            |\n",
      "| short-circuiting                                                                                          |\n",
      "|Shopee | Health & Beauty | Oral Care | Water Flossers                                                      |\n",
      "| please LIVE CHAT us immediately!                                                                          |\n",
      "| brand and materials.                                                                                      |\n",
      "| thank you! - Buy HEVIA 0.1 Second Smart Photochromic Polarized Sunglasses Men Women Driving Fishing PG032\"|\n",
      "| we guarantee the style is the same as shown in the pictures.                                              |\n",
      "| linen                                                                                                     |\n",
      "| Xiaomi                                                                                                    |\n",
      "| suitable for watching movies in different poses                                                           |\n",
      "|Shopee | Women Clothes | Outerwear | Blazers                                                               |\n",
      "| we can provide more quality products and efficient service for you. Thank you❤                            |\n",
      "|Shopee | Men Clothes | Suits | Suit Sets                                                                   |\n",
      "| natural effect. One-purpose dual-use                                                                      |\n",
      "|NULL                                                                                                       |\n",
      "|Shopee | Home & Living | Kitchen Storage | Food Storage & Dispensers                                       |\n",
      "|Shopee | Women Clothes | Traditional Wear | Tops                                                           |\n",
      "+-----------------------------------------------------------------------------------------------------------+\n",
      "only showing top 20 rows\n"
     ]
    }
   ],
   "source": [
    "df.select(\"item_category_detail\").distinct().show(truncate = False)"
   ]
  },
  {
   "cell_type": "code",
   "execution_count": 0,
   "metadata": {
    "application/vnd.databricks.v1+cell": {
     "cellMetadata": {
      "byteLimit": 2048000,
      "rowLimit": 10000
     },
     "inputWidgets": {},
     "nuid": "8c4462ce-089d-4837-8e1e-9050dd3a6dc6",
     "showTitle": false,
     "tableResultSettingsMap": {},
     "title": ""
    }
   },
   "outputs": [
    {
     "name": "stdout",
     "output_type": "stream",
     "text": [
      "+-----------------------------------------------------+\n",
      "|item_category_detail                                 |\n",
      "+-----------------------------------------------------+\n",
      "|Shopee | Women's Bags | Shoulder Bags | Shoulder Bags|\n",
      "|NULL                                                 |\n",
      "|NULL                                                 |\n",
      "+-----------------------------------------------------+\n",
      "only showing top 3 rows\n"
     ]
    }
   ],
   "source": [
    "df.select(\"item_category_detail\").show(3, truncate = False)"
   ]
  },
  {
   "cell_type": "code",
   "execution_count": 0,
   "metadata": {
    "application/vnd.databricks.v1+cell": {
     "cellMetadata": {
      "byteLimit": 2048000,
      "rowLimit": 10000
     },
     "inputWidgets": {},
     "nuid": "5055cd71-54eb-4e28-bfc8-8664c5f415bb",
     "showTitle": false,
     "tableResultSettingsMap": {},
     "title": ""
    }
   },
   "outputs": [],
   "source": [
    "from pyspark.sql.functions import split, col, when, size\n",
    "\n",
    "split_category = split(col(\"item_category_detail\"), \" \\\\| \")\n",
    "\n",
    "df_trans = (\n",
    "    df\n",
    "    .withColumn(\"split_arr\", split_category)\n",
    "    .withColumn(\n",
    "        \"main_category\",\n",
    "        when(col(\"item_category_detail\").startswith(\"Shopee\"), \n",
    "             when(size(col(\"split_arr\")) > 1, col(\"split_arr\")[1]).otherwise(None)\n",
    "        )\n",
    "    )\n",
    "    .withColumn(\n",
    "        \"sub_category\",\n",
    "        when(col(\"item_category_detail\").startswith(\"Shopee\"), \n",
    "             when(size(col(\"split_arr\")) > 2, col(\"split_arr\")[2]).otherwise(None)\n",
    "        )\n",
    "    )\n",
    "    .withColumn(\n",
    "        \"specific_category\",\n",
    "        when(col(\"item_category_detail\").startswith(\"Shopee\"), \n",
    "             when(size(col(\"split_arr\")) > 3, col(\"split_arr\")[3]).otherwise(None)\n",
    "        )\n",
    "    )\n",
    "    .drop(\"split_arr\")\n",
    ")"
   ]
  },
  {
   "cell_type": "code",
   "execution_count": 0,
   "metadata": {
    "application/vnd.databricks.v1+cell": {
     "cellMetadata": {
      "byteLimit": 2048000,
      "rowLimit": 10000
     },
     "inputWidgets": {},
     "nuid": "0dd33f34-fec5-48f9-8e98-b97653786dc3",
     "showTitle": false,
     "tableResultSettingsMap": {},
     "title": ""
    }
   },
   "outputs": [
    {
     "name": "stdout",
     "output_type": "stream",
     "text": [
      "+--------------------+------------------------+----------------------------+\n",
      "|main_category       |sub_category            |specific_category           |\n",
      "+--------------------+------------------------+----------------------------+\n",
      "|Women's Bags        |Handbags                |Set Handbags                |\n",
      "|Health & Beauty     |OTC Medicine            |Traditional Medications     |\n",
      "|Health & Beauty     |Fragrances              |For Her                     |\n",
      "|Home Appliances     |Cooling & Heating       |Fans                        |\n",
      "|Men Clothes         |Outerwear               |Jackets                     |\n",
      "|Health & Beauty     |Eye Make Up             |Eyelid Tape & Eyelashes     |\n",
      "|Baby & Toys         |Bath & Toiletries       |Wipes & Refills             |\n",
      "|Tickets & Vouchers  |Services                |Others                      |\n",
      "|Men's Bags & Wallets|Messenger Bags          |Messenger Bags              |\n",
      "|NULL                |NULL                    |NULL                        |\n",
      "|Home Appliances     |Large Kitchen Appliances|Water Dispensers & Purifiers|\n",
      "|Mobile & Accessories|Cool Gadgets            |Other Gadgets               |\n",
      "|Health & Beauty     |Brushes & Beauty Tools  |Brushes & Sponges           |\n",
      "|Mobile & Accessories|Cool Gadgets            |Stylus                      |\n",
      "|Mobile & Accessories|Selfie Accessories      |Selfie Lights               |\n",
      "+--------------------+------------------------+----------------------------+\n",
      "only showing top 15 rows\n"
     ]
    }
   ],
   "source": [
    "df_trans.select(\"main_category\", \"sub_category\", \"specific_category\").distinct().show(15, truncate = False)"
   ]
  },
  {
   "cell_type": "markdown",
   "metadata": {
    "application/vnd.databricks.v1+cell": {
     "cellMetadata": {
      "byteLimit": 2048000,
      "rowLimit": 10000
     },
     "inputWidgets": {},
     "nuid": "1de67bc1-7a08-4900-a7e6-f5e18c366d8d",
     "showTitle": false,
     "tableResultSettingsMap": {},
     "title": ""
    }
   },
   "source": [
    "#### Cleaning & Transform kolom total_rating ke tipe Double"
   ]
  },
  {
   "cell_type": "code",
   "execution_count": 0,
   "metadata": {
    "application/vnd.databricks.v1+cell": {
     "cellMetadata": {
      "byteLimit": 2048000,
      "rowLimit": 10000
     },
     "inputWidgets": {},
     "nuid": "37662231-0684-42ba-a810-48c373547d58",
     "showTitle": false,
     "tableResultSettingsMap": {},
     "title": ""
    }
   },
   "outputs": [
    {
     "name": "stdout",
     "output_type": "stream",
     "text": [
      "+----------------+\n",
      "|total_rating    |\n",
      "+----------------+\n",
      "|61              |\n",
      "|103             |\n",
      "|126             |\n",
      "|93              |\n",
      "|20.5k           |\n",
      "|0               |\n",
      "|19.4k           |\n",
      "|NULL            |\n",
      "|1.8k            |\n",
      "| Sodium Chloride|\n",
      "|5.5k            |\n",
      "|406             |\n",
      "|335             |\n",
      "|16k             |\n",
      "|87              |\n",
      "|553             |\n",
      "|237             |\n",
      "|2               |\n",
      "|437             |\n",
      "|6.5k            |\n",
      "|136             |\n",
      "|60              |\n",
      "|630             |\n",
      "|330             |\n",
      "|2k              |\n",
      "|1.3k            |\n",
      "|301             |\n",
      "|157             |\n",
      "|127             |\n",
      "|8.3k            |\n",
      "+----------------+\n",
      "only showing top 30 rows\n"
     ]
    }
   ],
   "source": [
    "df_trans.select(\"total_rating\").distinct().show(30, truncate = False)"
   ]
  },
  {
   "cell_type": "code",
   "execution_count": 0,
   "metadata": {
    "application/vnd.databricks.v1+cell": {
     "cellMetadata": {
      "byteLimit": 2048000,
      "rowLimit": 10000
     },
     "inputWidgets": {},
     "nuid": "4e9581d3-2035-4725-86e3-c4c37de56223",
     "showTitle": false,
     "tableResultSettingsMap": {},
     "title": ""
    }
   },
   "outputs": [
    {
     "name": "stdout",
     "output_type": "stream",
     "text": [
      "root\n",
      " |-- price_ori: string (nullable = true)\n",
      " |-- delivery: string (nullable = true)\n",
      " |-- item_category_detail: string (nullable = true)\n",
      " |-- specification: string (nullable = true)\n",
      " |-- title: string (nullable = true)\n",
      " |-- w_date: string (nullable = true)\n",
      " |-- link_ori: string (nullable = true)\n",
      " |-- item_rating: string (nullable = true)\n",
      " |-- seller_name: string (nullable = true)\n",
      " |-- idElastic: string (nullable = true)\n",
      " |-- price_actual: string (nullable = true)\n",
      " |-- sitename: string (nullable = true)\n",
      " |-- idHash: string (nullable = true)\n",
      " |-- total_rating: string (nullable = true)\n",
      " |-- id: string (nullable = true)\n",
      " |-- total_sold: string (nullable = true)\n",
      " |-- pict_link: string (nullable = true)\n",
      " |-- favorite: string (nullable = true)\n",
      " |-- timestamp: string (nullable = true)\n",
      " |-- desc: string (nullable = true)\n",
      " |-- main_category: string (nullable = true)\n",
      " |-- sub_category: string (nullable = true)\n",
      " |-- specific_category: string (nullable = true)\n",
      "\n"
     ]
    }
   ],
   "source": [
    "df_trans.printSchema()"
   ]
  },
  {
   "cell_type": "code",
   "execution_count": 0,
   "metadata": {
    "application/vnd.databricks.v1+cell": {
     "cellMetadata": {
      "byteLimit": 2048000,
      "rowLimit": 10000
     },
     "inputWidgets": {},
     "nuid": "61e81466-7fd0-4df1-8b2a-a4e202fc11b8",
     "showTitle": false,
     "tableResultSettingsMap": {},
     "title": ""
    }
   },
   "outputs": [
    {
     "name": "stdout",
     "output_type": "stream",
     "text": [
      "Jumlah Anomali Rating : 12\n",
      "+--------------------------------+\n",
      "|total_rating                    |\n",
      "+--------------------------------+\n",
      "|6fdd1d5f13fa24275718738cebd0ccf2|\n",
      "| 44L                            |\n",
      "| 11XL                           |\n",
      "| 24mm                           |\n",
      "|4537a58b86e49f126abbed0e7a014686|\n",
      "|0606f61eb41a1a0f7700d40726eed652|\n",
      "|69067428ce591839f56aa89be98c8d21|\n",
      "| 24mm                           |\n",
      "|6ef04cf15ac98e85994007ffec780fff|\n",
      "|534faaf267b6dbf56f7c81aba0b75eef|\n",
      "+--------------------------------+\n",
      "only showing top 10 rows\n"
     ]
    }
   ],
   "source": [
    "from pyspark.sql.functions import col, ltrim, lower\n",
    "\n",
    "\n",
    "count_anomali_rating = df_trans.filter(\n",
    "    ltrim(col(\"total_rating\")).rlike(\"^\\\\d+\\\\.?\\\\d*[a-zA-Z]\") &\n",
    "    ~ltrim(col(\"total_rating\")).rlike(\"^\\\\d+\\\\.?\\\\d*[kK]$\")\n",
    ").select(\"total_rating\").count()\n",
    "\n",
    "print(f\"Jumlah Anomali Rating : {count_anomali_rating}\")\n",
    "\n",
    "df_trans.filter(\n",
    "    ltrim(col(\"total_rating\")).rlike(\"^\\\\d+\\\\.?\\\\d*[a-zA-Z]\") &\n",
    "    ~ltrim(col(\"total_rating\")).rlike(\"^\\\\d+\\\\.?\\\\d*[kK]$\")\n",
    ").select(\"total_rating\").show(10, truncate = False)"
   ]
  },
  {
   "cell_type": "code",
   "execution_count": 0,
   "metadata": {
    "application/vnd.databricks.v1+cell": {
     "cellMetadata": {
      "byteLimit": 2048000,
      "rowLimit": 10000
     },
     "inputWidgets": {},
     "nuid": "87f22ec9-f0f0-47b5-a168-1ae717bba1cf",
     "showTitle": false,
     "tableResultSettingsMap": {},
     "title": ""
    }
   },
   "outputs": [],
   "source": [
    "df_trans = df_trans.withColumn(\n",
    "    \"total_rating\",\n",
    "    when(\n",
    "        (ltrim(col(\"total_rating\")).rlike(\"^\\\\d\") & \n",
    "         ltrim(col(\"total_rating\")).rlike(\"[^0-9\\\\s]\") & \n",
    "         ~ltrim(col(\"total_rating\")).rlike(\"^\\\\d+\\\\.?\\\\d*[kK]$\")),\n",
    "        None\n",
    "    ).otherwise(col(\"total_rating\"))\n",
    ")"
   ]
  },
  {
   "cell_type": "code",
   "execution_count": 0,
   "metadata": {
    "application/vnd.databricks.v1+cell": {
     "cellMetadata": {
      "byteLimit": 2048000,
      "rowLimit": 10000
     },
     "inputWidgets": {},
     "nuid": "4a2044ad-e062-4a3f-b3d6-ff73dcff385d",
     "showTitle": false,
     "tableResultSettingsMap": {},
     "title": ""
    }
   },
   "outputs": [
    {
     "name": "stdout",
     "output_type": "stream",
     "text": [
      "+------------+\n",
      "|total_rating|\n",
      "+------------+\n",
      "|12k         |\n",
      "|1k          |\n",
      "|5k          |\n",
      "|1k          |\n",
      "|1k          |\n",
      "+------------+\n",
      "only showing top 5 rows\n"
     ]
    }
   ],
   "source": [
    "df_trans.filter(col(\"total_rating\").rlike(\"^\\\\d+[a-zA-Z]\")) \\\n",
    "    .select(\"total_rating\").show(5, truncate=False)"
   ]
  },
  {
   "cell_type": "code",
   "execution_count": 0,
   "metadata": {
    "application/vnd.databricks.v1+cell": {
     "cellMetadata": {
      "byteLimit": 2048000,
      "rowLimit": 10000
     },
     "inputWidgets": {},
     "nuid": "a085c403-535e-40d4-b2b0-f7068e7a8d9a",
     "showTitle": false,
     "tableResultSettingsMap": {},
     "title": ""
    }
   },
   "outputs": [],
   "source": [
    "df_trans = df_trans.withColumn(\"total_rating\", \n",
    "                    when(\n",
    "                        col(\"total_rating\").rlike(\"^[0-9]\"), \n",
    "                        col(\"total_rating\")\n",
    "                        ).otherwise(None)\n",
    "                    )"
   ]
  },
  {
   "cell_type": "code",
   "execution_count": 0,
   "metadata": {
    "application/vnd.databricks.v1+cell": {
     "cellMetadata": {
      "byteLimit": 2048000,
      "rowLimit": 10000
     },
     "inputWidgets": {},
     "nuid": "94c63b07-be9d-4664-815b-e3fe65fc9f09",
     "showTitle": false,
     "tableResultSettingsMap": {},
     "title": ""
    }
   },
   "outputs": [
    {
     "name": "stdout",
     "output_type": "stream",
     "text": [
      "+------------+\n",
      "|total_rating|\n",
      "+------------+\n",
      "+------------+\n",
      "\n"
     ]
    }
   ],
   "source": [
    "from pyspark.sql.functions import length\n",
    "\n",
    "\"\"\"\n",
    "Kita lihat data pada `total_rating` yang memiliki data tidak sesuai.\n",
    "Setelah di-cek data yang berpola (nk) adalah data yang tepat, tetapi data seperti `382632ASD`\n",
    "merupakan data salah. \n",
    "\"\"\"\n",
    "\n",
    "df_trans.filter(length(col(\"total_rating\")) > 6) \\\n",
    "    .select(\"total_rating\") \\\n",
    "    .distinct().show(30, truncate = False)"
   ]
  },
  {
   "cell_type": "code",
   "execution_count": 0,
   "metadata": {
    "application/vnd.databricks.v1+cell": {
     "cellMetadata": {
      "byteLimit": 2048000,
      "rowLimit": 10000
     },
     "inputWidgets": {},
     "nuid": "0fb77293-a202-4c44-981d-0dcc1d7aaf6f",
     "showTitle": false,
     "tableResultSettingsMap": {},
     "title": ""
    }
   },
   "outputs": [],
   "source": [
    "\"\"\"\n",
    "Uppercase semua karakter untuk memudahkan filtering.\n",
    "\"\"\"\n",
    "\n",
    "from pyspark.sql.functions import upper\n",
    "\n",
    "df_trans = df_trans.withColumn(\"total_rating\", upper(col(\"total_rating\")))"
   ]
  },
  {
   "cell_type": "code",
   "execution_count": 0,
   "metadata": {
    "application/vnd.databricks.v1+cell": {
     "cellMetadata": {
      "byteLimit": 2048000,
      "rowLimit": 10000
     },
     "inputWidgets": {},
     "nuid": "48709589-d7e4-49b8-9552-31fc9fbb3fc0",
     "showTitle": false,
     "tableResultSettingsMap": {},
     "title": ""
    }
   },
   "outputs": [],
   "source": [
    "df_trans = df_trans.withColumn(\n",
    "    \"total_rating\", \n",
    "    when(length(col(\"total_rating\")) > 6, None).otherwise(col(\"total_rating\"))\n",
    ")"
   ]
  },
  {
   "cell_type": "code",
   "execution_count": 0,
   "metadata": {
    "application/vnd.databricks.v1+cell": {
     "cellMetadata": {
      "byteLimit": 2048000,
      "rowLimit": 10000
     },
     "inputWidgets": {},
     "nuid": "0f959a86-b0bb-42fd-98d5-a304d4b2eaa4",
     "showTitle": false,
     "tableResultSettingsMap": {},
     "title": ""
    }
   },
   "outputs": [
    {
     "name": "stdout",
     "output_type": "stream",
     "text": [
      "+------------+\n",
      "|total_rating|\n",
      "+------------+\n",
      "+------------+\n",
      "\n"
     ]
    }
   ],
   "source": [
    "\"\"\"\n",
    "Cek apakah ada nilai yang Null, sehingga bisa diganti.\n",
    "\"\"\"\n",
    "\n",
    "df_trans.filter((col(\"total_rating\") is None) | (col(\"total_rating\") == \"NULL\")) \\\n",
    "    .select(\"total_rating\") \\\n",
    "    .distinct() \\\n",
    "    .show(truncate = False)"
   ]
  },
  {
   "cell_type": "code",
   "execution_count": 0,
   "metadata": {
    "application/vnd.databricks.v1+cell": {
     "cellMetadata": {
      "byteLimit": 2048000,
      "rowLimit": 10000
     },
     "inputWidgets": {},
     "nuid": "96694f9f-ad34-4d43-b9db-80ede539d26c",
     "showTitle": false,
     "tableResultSettingsMap": {},
     "title": ""
    }
   },
   "outputs": [
    {
     "name": "stdout",
     "output_type": "stream",
     "text": [
      "+------------+\n",
      "|total_rating|\n",
      "+------------+\n",
      "|61          |\n",
      "|103         |\n",
      "|1.9K        |\n",
      "|3.5K        |\n",
      "|126         |\n",
      "|93          |\n",
      "|21.6K       |\n",
      "|6.6K        |\n",
      "|0           |\n",
      "|NULL        |\n",
      "|406         |\n",
      "|335         |\n",
      "|87          |\n",
      "|553         |\n",
      "|237         |\n",
      "|11.9K       |\n",
      "|2           |\n",
      "|2K          |\n",
      "|437         |\n",
      "|5.5K        |\n",
      "|136         |\n",
      "|8.3K        |\n",
      "|60          |\n",
      "|630         |\n",
      "|330         |\n",
      "|65K         |\n",
      "|301         |\n",
      "|3.2K        |\n",
      "|157         |\n",
      "|19.2K       |\n",
      "+------------+\n",
      "only showing top 30 rows\n"
     ]
    }
   ],
   "source": [
    "df_trans.select(\"total_rating\").distinct().show(30, truncate = False)"
   ]
  },
  {
   "cell_type": "code",
   "execution_count": 0,
   "metadata": {
    "application/vnd.databricks.v1+cell": {
     "cellMetadata": {
      "byteLimit": 2048000,
      "rowLimit": 10000
     },
     "inputWidgets": {},
     "nuid": "ef889c29-98aa-4370-8816-9da6b36c6133",
     "showTitle": false,
     "tableResultSettingsMap": {},
     "title": ""
    }
   },
   "outputs": [],
   "source": [
    "df_trans = df_trans.withColumn(\n",
    "    \"total_rating\",\n",
    "    when(col(\"total_rating\").endswith(\"K\"), regexp_replace(\"total_rating\", \"K\", \"\").cast(\"double\") * 1000)\n",
    "    .when(col(\"total_rating\").endswith(\"M\"), regexp_replace(\"total_rating\", \"M\", \"\").cast(\"double\") * 1000000)\n",
    "    .otherwise(col(\"total_rating\"))\n",
    "    .cast(\"double\")\n",
    ")"
   ]
  },
  {
   "cell_type": "code",
   "execution_count": 0,
   "metadata": {
    "application/vnd.databricks.v1+cell": {
     "cellMetadata": {
      "byteLimit": 2048000,
      "rowLimit": 10000
     },
     "inputWidgets": {},
     "nuid": "70d80469-5c6f-4789-ac62-8dc080fcee74",
     "showTitle": false,
     "tableResultSettingsMap": {},
     "title": ""
    }
   },
   "outputs": [
    {
     "name": "stdout",
     "output_type": "stream",
     "text": [
      "+------------+\n",
      "|total_rating|\n",
      "+------------+\n",
      "|481.0       |\n",
      "|948.0       |\n",
      "|97.0        |\n",
      "|136.0       |\n",
      "|NULL        |\n",
      "|237.0       |\n",
      "|23.0        |\n",
      "|301.0       |\n",
      "|174.0       |\n",
      "|903.0       |\n",
      "|9700.0      |\n",
      "|0.0         |\n",
      "|34.0        |\n",
      "|2900.0      |\n",
      "|2700.0      |\n",
      "|12000.0     |\n",
      "|21600.0     |\n",
      "|6100.0      |\n",
      "|2600.0      |\n",
      "|18.0        |\n",
      "|1.0         |\n",
      "|19400.0     |\n",
      "|6.0         |\n",
      "|227.0       |\n",
      "|25.0        |\n",
      "|3500.0      |\n",
      "|18100.0     |\n",
      "|15.0        |\n",
      "|157.0       |\n",
      "|80.0        |\n",
      "+------------+\n",
      "only showing top 30 rows\n"
     ]
    }
   ],
   "source": [
    "\"\"\"\n",
    "Cek hasil setelah cleansing.\n",
    "\"\"\"\n",
    "\n",
    "df_trans.select(\"total_rating\").distinct().show(30, truncate = False)"
   ]
  },
  {
   "cell_type": "markdown",
   "metadata": {},
   "source": [
    "#### Clean & Transform kolom price_ori"
   ]
  },
  {
   "cell_type": "code",
   "execution_count": 0,
   "metadata": {
    "application/vnd.databricks.v1+cell": {
     "cellMetadata": {
      "byteLimit": 2048000,
      "rowLimit": 10000
     },
     "inputWidgets": {},
     "nuid": "535461bf-976b-4940-b950-641ecceafe6e",
     "showTitle": false,
     "tableResultSettingsMap": {},
     "title": ""
    }
   },
   "outputs": [
    {
     "name": "stdout",
     "output_type": "stream",
     "text": [
      "+-----------------------------------------------------------------------------------------------------------+\n",
      "|price_ori                                                                                                  |\n",
      "+-----------------------------------------------------------------------------------------------------------+\n",
      "|# Ready Stock                                                                                              |\n",
      "|Feature1 : mobile phone adapter / usb adapter / otg cable / Type C usb adapter                             |\n",
      "|Color : Lotus Pink                                                                                         |\n",
      "|🌟We only sell high quality products                                                                       |\n",
      "|Feature:100% brand new and high quality.                                                                   |\n",
      "|    Transfers Data and Charges                                                                             |\n",
      "|8.70                                                                                                       |\n",
      "|Jantina yang berkenaan: pasangan;                                                                          |\n",
      "|📌 Leave notes in the NOTES section of the order if you don't know how to select different colors/variation|\n",
      "|Suitable for all occasions.                                                                                |\n",
      "+-----------------------------------------------------------------------------------------------------------+\n",
      "only showing top 10 rows\n"
     ]
    }
   ],
   "source": [
    "df_trans.select(\"price_ori\").distinct().show(10, truncate = False)"
   ]
  },
  {
   "cell_type": "code",
   "execution_count": 0,
   "metadata": {
    "application/vnd.databricks.v1+cell": {
     "cellMetadata": {
      "byteLimit": 2048000,
      "rowLimit": 10000
     },
     "inputWidgets": {},
     "nuid": "1c535de8-6e96-466f-8f5d-0b574c30994a",
     "showTitle": false,
     "tableResultSettingsMap": {},
     "title": ""
    }
   },
   "outputs": [],
   "source": [
    "\"\"\"\n",
    "Cleansing pada kolom price_ori untuk menghilangkan data yang tidak sesuai dengan mengganti \n",
    "nilai string text tersebut menjadi NULL.\n",
    "\"\"\"\n",
    "\n",
    "df_trans = df_trans.withColumn(\n",
    "    \"price_ori\",\n",
    "    when(\n",
    "        (ltrim(col(\"price_ori\")).rlike(\"^\\\\d\") & \n",
    "         ltrim(col(\"price_ori\")).rlike(\"[^0-9\\\\s]\") & \n",
    "         ~ltrim(col(\"price_ori\")).rlike(\"^\\\\d+\\\\.?\\\\d*[kK]$\")),\n",
    "        None\n",
    "    ).otherwise(col(\"price_ori\"))\n",
    ")"
   ]
  },
  {
   "cell_type": "code",
   "execution_count": 0,
   "metadata": {
    "application/vnd.databricks.v1+cell": {
     "cellMetadata": {
      "byteLimit": 2048000,
      "rowLimit": 10000
     },
     "inputWidgets": {},
     "nuid": "4125f188-4329-489a-b65c-9209fddb984d",
     "showTitle": false,
     "tableResultSettingsMap": {},
     "title": ""
    }
   },
   "outputs": [
    {
     "name": "stdout",
     "output_type": "stream",
     "text": [
      "+-----------------------------------------------------------------------------------------------------------+\n",
      "|price_ori                                                                                                  |\n",
      "+-----------------------------------------------------------------------------------------------------------+\n",
      "|# Ready Stock                                                                                              |\n",
      "|Feature1 : mobile phone adapter / usb adapter / otg cable / Type C usb adapter                             |\n",
      "|Color : Lotus Pink                                                                                         |\n",
      "|🌟We only sell high quality products                                                                       |\n",
      "|Feature:100% brand new and high quality.                                                                   |\n",
      "|    Transfers Data and Charges                                                                             |\n",
      "|Jantina yang berkenaan: pasangan;                                                                          |\n",
      "|📌 Leave notes in the NOTES section of the order if you don't know how to select different colors/variation|\n",
      "|Suitable for all occasions.                                                                                |\n",
      "|size: M/L                                                                                                  |\n",
      "+-----------------------------------------------------------------------------------------------------------+\n",
      "only showing top 10 rows\n"
     ]
    }
   ],
   "source": [
    "df_trans.select(\"price_ori\").distinct().show(10, truncate = False)"
   ]
  },
  {
   "cell_type": "code",
   "execution_count": 0,
   "metadata": {
    "application/vnd.databricks.v1+cell": {
     "cellMetadata": {
      "byteLimit": 2048000,
      "rowLimit": 10000
     },
     "inputWidgets": {},
     "nuid": "233d90f6-0bb2-4491-a83a-3d2c3b9aceba",
     "showTitle": false,
     "tableResultSettingsMap": {},
     "title": ""
    }
   },
   "outputs": [],
   "source": [
    "df_trans = df_trans.withColumn(\n",
    "    \"price_ori\",\n",
    "    when(ltrim(col(\"price_ori\")).rlike(\"^\\\\d+\\\\.?\\\\d*[a-zA-Z]\") &\n",
    "    ~ltrim(col(\"price_ori\")).rlike(\"^\\\\d+\\\\.?\\\\d*[kK]$\"), None).otherwise(col(\"total_rating\"))    \n",
    ")"
   ]
  },
  {
   "cell_type": "code",
   "execution_count": 0,
   "metadata": {
    "application/vnd.databricks.v1+cell": {
     "cellMetadata": {
      "byteLimit": 2048000,
      "rowLimit": 10000
     },
     "inputWidgets": {},
     "nuid": "37a42144-0e6d-4d63-b9c3-9c15b9f16d90",
     "showTitle": false,
     "tableResultSettingsMap": {},
     "title": ""
    }
   },
   "outputs": [
    {
     "name": "stdout",
     "output_type": "stream",
     "text": [
      "+---------+\n",
      "|price_ori|\n",
      "+---------+\n",
      "|481.0    |\n",
      "|948.0    |\n",
      "|97.0     |\n",
      "|136.0    |\n",
      "|NULL     |\n",
      "|237.0    |\n",
      "|23.0     |\n",
      "|301.0    |\n",
      "|174.0    |\n",
      "|903.0    |\n",
      "+---------+\n",
      "only showing top 10 rows\n"
     ]
    }
   ],
   "source": [
    "df_trans.select(\"price_ori\").distinct().show(10, truncate = False)"
   ]
  },
  {
   "cell_type": "code",
   "execution_count": 0,
   "metadata": {
    "application/vnd.databricks.v1+cell": {
     "cellMetadata": {
      "byteLimit": 2048000,
      "rowLimit": 10000
     },
     "inputWidgets": {},
     "nuid": "ed262537-599d-4032-b469-d00620b1b711",
     "showTitle": false,
     "tableResultSettingsMap": {},
     "title": ""
    }
   },
   "outputs": [],
   "source": [
    "df_trans2 = df_trans.withColumn(\n",
    "    \"price_ori\", \n",
    "    col(\"price_ori\").cast(\"double\")\n",
    ")"
   ]
  },
  {
   "cell_type": "code",
   "execution_count": 0,
   "metadata": {
    "application/vnd.databricks.v1+cell": {
     "cellMetadata": {
      "byteLimit": 2048000,
      "rowLimit": 10000
     },
     "inputWidgets": {},
     "nuid": "837c624b-c4da-42d6-a946-62577f8fec4f",
     "showTitle": false,
     "tableResultSettingsMap": {},
     "title": ""
    }
   },
   "outputs": [
    {
     "name": "stdout",
     "output_type": "stream",
     "text": [
      "+---------+\n",
      "|price_ori|\n",
      "+---------+\n",
      "|481.0    |\n",
      "|948.0    |\n",
      "|97.0     |\n",
      "|136.0    |\n",
      "|NULL     |\n",
      "+---------+\n",
      "only showing top 5 rows\n"
     ]
    }
   ],
   "source": [
    "df_trans2.select(\"price_ori\").distinct().show(5, truncate=False)"
   ]
  },
  {
   "cell_type": "markdown",
   "metadata": {},
   "source": [
    "#### Clean & Transform price_actual"
   ]
  },
  {
   "cell_type": "code",
   "execution_count": 0,
   "metadata": {
    "application/vnd.databricks.v1+cell": {
     "cellMetadata": {
      "byteLimit": 2048000,
      "rowLimit": 10000
     },
     "inputWidgets": {},
     "nuid": "f330bfbc-4f8c-46e1-a963-50c1030bc888",
     "showTitle": false,
     "tableResultSettingsMap": {},
     "title": ""
    }
   },
   "outputs": [
    {
     "name": "stdout",
     "output_type": "stream",
     "text": [
      "+---------------------------------------------+\n",
      "|price_actual                                 |\n",
      "+---------------------------------------------+\n",
      "|8.70                                         |\n",
      "|29.99                                        |\n",
      "|1.00                                         |\n",
      "|179.75                                       |\n",
      "|19.99                                        |\n",
      "|0.55                                         |\n",
      "|0.20                                         |\n",
      "|198.00                                       |\n",
      "| and any place where a cool breeze is needed.|\n",
      "|0.45                                         |\n",
      "|NULL                                         |\n",
      "|330.60                                       |\n",
      "|603.00                                       |\n",
      "|34.90                                        |\n",
      "|25.00                                        |\n",
      "|4.90                                         |\n",
      "|60.50                                        |\n",
      "|0.75                                         |\n",
      "|17.80                                        |\n",
      "|1299.00                                      |\n",
      "|8.99                                         |\n",
      "|69.13                                        |\n",
      "|22.90                                        |\n",
      "|25.99                                        |\n",
      "|0.35                                         |\n",
      "|19.19                                        |\n",
      "|142.00                                       |\n",
      "|1.10                                         |\n",
      "|12.90                                        |\n",
      "|48.50                                        |\n",
      "+---------------------------------------------+\n",
      "only showing top 30 rows\n"
     ]
    }
   ],
   "source": [
    "df_trans2.select(\"price_actual\").distinct().show(30, truncate = False)"
   ]
  },
  {
   "cell_type": "code",
   "execution_count": 0,
   "metadata": {
    "application/vnd.databricks.v1+cell": {
     "cellMetadata": {
      "byteLimit": 2048000,
      "rowLimit": 10000
     },
     "inputWidgets": {},
     "nuid": "cb5cd04a-5070-4315-adc2-6d6510270088",
     "showTitle": false,
     "tableResultSettingsMap": {},
     "title": ""
    }
   },
   "outputs": [],
   "source": [
    "df_trans2 = df_trans2.withColumn(\n",
    "    \"price_actual\",\n",
    "    when(\n",
    "        (ltrim(col(\"price_actual\")).rlike(\"^\\\\d\") & \n",
    "         ltrim(col(\"price_actual\")).rlike(\"[^0-9\\\\s]\") & \n",
    "         ~ltrim(col(\"price_actual\")).rlike(\"^\\\\d+\\\\.?\\\\d*[kK]$\")),\n",
    "        None\n",
    "    ).otherwise(col(\"price_actual\"))\n",
    ")"
   ]
  },
  {
   "cell_type": "code",
   "execution_count": 0,
   "metadata": {
    "application/vnd.databricks.v1+cell": {
     "cellMetadata": {
      "byteLimit": 2048000,
      "rowLimit": 10000
     },
     "inputWidgets": {},
     "nuid": "d5d5da33-caad-4179-b1ac-5e8b889096cd",
     "showTitle": false,
     "tableResultSettingsMap": {},
     "title": ""
    }
   },
   "outputs": [],
   "source": [
    "from pyspark.sql.functions import trim\n",
    "\n",
    "df_trans2 = df_trans2.withColumn(\"price_actual\", upper(col(\"price_actual\")))\n",
    "\n",
    "df_trans2 = df_trans2.withColumn(\n",
    "    \"price_actual\",\n",
    "    when(\n",
    "        trim(col(\"price_actual\")).rlike(\"^[0-9]+$\"),\n",
    "        trim(col(\"price_actual\"))\n",
    "    ).otherwise(None)\n",
    ")"
   ]
  },
  {
   "cell_type": "code",
   "execution_count": 0,
   "metadata": {
    "application/vnd.databricks.v1+cell": {
     "cellMetadata": {
      "byteLimit": 2048000,
      "rowLimit": 10000
     },
     "inputWidgets": {},
     "nuid": "045e7691-a02b-46cb-b143-8366fba7de0d",
     "showTitle": false,
     "tableResultSettingsMap": {},
     "title": ""
    }
   },
   "outputs": [
    {
     "name": "stdout",
     "output_type": "stream",
     "text": [
      "+------------+\n",
      "|price_actual|\n",
      "+------------+\n",
      "|0           |\n",
      "|NULL        |\n",
      "|60          |\n",
      "|40          |\n",
      "|44          |\n",
      "|42          |\n",
      "|48          |\n",
      "|47          |\n",
      "|24          |\n",
      "|7390        |\n",
      "+------------+\n",
      "only showing top 10 rows\n"
     ]
    }
   ],
   "source": [
    "df_trans2.select(\"price_actual\").distinct().show(10, truncate = False)"
   ]
  },
  {
   "cell_type": "code",
   "execution_count": 0,
   "metadata": {
    "application/vnd.databricks.v1+cell": {
     "cellMetadata": {
      "byteLimit": 2048000,
      "rowLimit": 10000
     },
     "inputWidgets": {},
     "nuid": "3311ba2b-247e-4fae-83cd-775e8c4edd9c",
     "showTitle": false,
     "tableResultSettingsMap": {},
     "title": ""
    }
   },
   "outputs": [],
   "source": [
    "df_trans2 = df_trans2.withColumn(\n",
    "    \"price_actual\", \n",
    "    col(\"price_actual\").cast(\"double\")\n",
    ")"
   ]
  },
  {
   "cell_type": "code",
   "execution_count": 0,
   "metadata": {
    "application/vnd.databricks.v1+cell": {
     "cellMetadata": {
      "byteLimit": 2048000,
      "rowLimit": 10000
     },
     "inputWidgets": {},
     "nuid": "1dc5657e-c7d0-40ec-b963-e68ccac37dff",
     "showTitle": false,
     "tableResultSettingsMap": {},
     "title": ""
    }
   },
   "outputs": [
    {
     "name": "stdout",
     "output_type": "stream",
     "text": [
      "+------------+\n",
      "|price_actual|\n",
      "+------------+\n",
      "|NULL        |\n",
      "|0.0         |\n",
      "|44.0        |\n",
      "|40.0        |\n",
      "|42.0        |\n",
      "|60.0        |\n",
      "|47.0        |\n",
      "|7740.0      |\n",
      "|7390.0      |\n",
      "|24.0        |\n",
      "+------------+\n",
      "only showing top 10 rows\n"
     ]
    }
   ],
   "source": [
    "df_trans2.select(\"price_actual\").distinct().show(10, truncate = False)"
   ]
  },
  {
   "cell_type": "code",
   "execution_count": 0,
   "metadata": {
    "application/vnd.databricks.v1+cell": {
     "cellMetadata": {
      "byteLimit": 2048000,
      "rowLimit": 10000
     },
     "inputWidgets": {},
     "nuid": "e2821150-ef0b-422f-801e-bac1fcb92567",
     "showTitle": false,
     "tableResultSettingsMap": {},
     "title": ""
    }
   },
   "outputs": [
    {
     "name": "stdout",
     "output_type": "stream",
     "text": [
      "root\n",
      " |-- price_ori: double (nullable = true)\n",
      " |-- delivery: string (nullable = true)\n",
      " |-- item_category_detail: string (nullable = true)\n",
      " |-- specification: string (nullable = true)\n",
      " |-- title: string (nullable = true)\n",
      " |-- w_date: string (nullable = true)\n",
      " |-- link_ori: string (nullable = true)\n",
      " |-- item_rating: string (nullable = true)\n",
      " |-- seller_name: string (nullable = true)\n",
      " |-- idElastic: string (nullable = true)\n",
      " |-- price_actual: double (nullable = true)\n",
      " |-- sitename: string (nullable = true)\n",
      " |-- idHash: string (nullable = true)\n",
      " |-- total_rating: double (nullable = true)\n",
      " |-- id: string (nullable = true)\n",
      " |-- total_sold: string (nullable = true)\n",
      " |-- pict_link: string (nullable = true)\n",
      " |-- favorite: string (nullable = true)\n",
      " |-- timestamp: string (nullable = true)\n",
      " |-- desc: string (nullable = true)\n",
      " |-- main_category: string (nullable = true)\n",
      " |-- sub_category: string (nullable = true)\n",
      " |-- specific_category: string (nullable = true)\n",
      "\n"
     ]
    }
   ],
   "source": [
    "df_trans2.printSchema()"
   ]
  },
  {
   "cell_type": "markdown",
   "metadata": {},
   "source": [
    "#### Clean & Transform total_sold"
   ]
  },
  {
   "cell_type": "code",
   "execution_count": 0,
   "metadata": {
    "application/vnd.databricks.v1+cell": {
     "cellMetadata": {
      "byteLimit": 2048000,
      "rowLimit": 10000
     },
     "inputWidgets": {},
     "nuid": "0514eb59-ef69-4597-adfd-3757697573c6",
     "showTitle": false,
     "tableResultSettingsMap": {},
     "title": ""
    }
   },
   "outputs": [
    {
     "name": "stdout",
     "output_type": "stream",
     "text": [
      "+-------------+\n",
      "|total_sold   |\n",
      "+-------------+\n",
      "|61           |\n",
      "|103          |\n",
      "|126          |\n",
      "|93           |\n",
      "|20.5k        |\n",
      "|0            |\n",
      "|19.4k        |\n",
      "|NULL         |\n",
      "|smilekeychain|\n",
      "|1.8k         |\n",
      "+-------------+\n",
      "only showing top 10 rows\n"
     ]
    }
   ],
   "source": [
    "df_trans2.select(\n",
    "    \"total_sold\",\n",
    ").distinct().show(10, truncate = False)  "
   ]
  },
  {
   "cell_type": "code",
   "execution_count": 0,
   "metadata": {
    "application/vnd.databricks.v1+cell": {
     "cellMetadata": {
      "byteLimit": 2048000,
      "rowLimit": 10000
     },
     "inputWidgets": {},
     "nuid": "51a06ea9-d2c6-4c86-9793-f45140b142f5",
     "showTitle": false,
     "tableResultSettingsMap": {},
     "title": ""
    }
   },
   "outputs": [],
   "source": [
    "df_trans2 = df_trans2.withColumn(\n",
    "    \"total_sold\",\n",
    "    when(\n",
    "        (ltrim(col(\"total_sold\")).rlike(\"^\\\\d\") & \n",
    "         ltrim(col(\"total_sold\")).rlike(\"[^0-9\\\\s]\") & \n",
    "         ~ltrim(col(\"total_sold\")).rlike(\"^\\\\d+\\\\.?\\\\d*[kK]$\")),\n",
    "        None\n",
    "    ).otherwise(col(\"total_sold\"))\n",
    ")"
   ]
  },
  {
   "cell_type": "code",
   "execution_count": 0,
   "metadata": {
    "application/vnd.databricks.v1+cell": {
     "cellMetadata": {
      "byteLimit": 2048000,
      "rowLimit": 10000
     },
     "inputWidgets": {},
     "nuid": "291be72a-2e47-477c-a2b5-a41fc10db63f",
     "showTitle": false,
     "tableResultSettingsMap": {},
     "title": ""
    }
   },
   "outputs": [
    {
     "name": "stdout",
     "output_type": "stream",
     "text": [
      "+-------------+\n",
      "|total_sold   |\n",
      "+-------------+\n",
      "|61           |\n",
      "|103          |\n",
      "|126          |\n",
      "|93           |\n",
      "|20.5k        |\n",
      "|0            |\n",
      "|19.4k        |\n",
      "|NULL         |\n",
      "|smilekeychain|\n",
      "|1.8k         |\n",
      "+-------------+\n",
      "only showing top 10 rows\n"
     ]
    }
   ],
   "source": [
    "df_trans2.select(\"total_sold\").distinct().show(10, truncate = False)"
   ]
  },
  {
   "cell_type": "code",
   "execution_count": 0,
   "metadata": {
    "application/vnd.databricks.v1+cell": {
     "cellMetadata": {
      "byteLimit": 2048000,
      "rowLimit": 10000
     },
     "inputWidgets": {},
     "nuid": "d735d98d-649f-4ebd-9861-b10910136598",
     "showTitle": false,
     "tableResultSettingsMap": {},
     "title": ""
    }
   },
   "outputs": [],
   "source": [
    "df_trans2 = df_trans2.withColumn(\"total_sold\", upper(col(\"total_sold\")))"
   ]
  },
  {
   "cell_type": "code",
   "execution_count": 0,
   "metadata": {
    "application/vnd.databricks.v1+cell": {
     "cellMetadata": {
      "byteLimit": 2048000,
      "rowLimit": 10000
     },
     "inputWidgets": {},
     "nuid": "35885e11-d2dd-45d6-9ba8-caf76152c77b",
     "showTitle": false,
     "tableResultSettingsMap": {},
     "title": ""
    }
   },
   "outputs": [
    {
     "name": "stdout",
     "output_type": "stream",
     "text": [
      "Jumlah anomali total_sold: 16\n",
      "+-----------------------+\n",
      "|total_sold             |\n",
      "+-----------------------+\n",
      "|SMILEKEYCHAIN          |\n",
      "|ARABIC                 |\n",
      "|SMILEKEYCHAIN          |\n",
      "|SHOPEE                 |\n",
      "|ALLANTOIN              |\n",
      "|EZWARE                 |\n",
      "|INOSITOL               |\n",
      "|TRIETHOXYCAPRYLYLSILANE|\n",
      "|WMV                    |\n",
      "|ARABIC                 |\n",
      "|SMILEKEYCHAIN          |\n",
      "|SMILEKEYCHAIN          |\n",
      "|AGAR                   |\n",
      "|ALLANTOIN              |\n",
      "|ARABIC                 |\n",
      "|TRIETHOXYCAPRYLYLSILANE|\n",
      "+-----------------------+\n",
      "\n"
     ]
    }
   ],
   "source": [
    "total_sold_anomali = df_trans2.filter(col(\"total_sold\").rlike(\"^[A-Z]+$\")) \\\n",
    "    .select(\"total_sold\").count()\n",
    "print(f\"Jumlah anomali total_sold: {total_sold_anomali}\")    \n",
    "\n",
    "df_trans2.filter(col(\"total_sold\").rlike(\"^[A-Z]+$\")) \\\n",
    "    .select(\"total_sold\").show(18, truncate=False)"
   ]
  },
  {
   "cell_type": "code",
   "execution_count": 0,
   "metadata": {
    "application/vnd.databricks.v1+cell": {
     "cellMetadata": {
      "byteLimit": 2048000,
      "rowLimit": 10000
     },
     "inputWidgets": {},
     "nuid": "bf65990b-c530-4071-a32c-9a1497fba89f",
     "showTitle": false,
     "tableResultSettingsMap": {},
     "title": ""
    }
   },
   "outputs": [
    {
     "name": "stdout",
     "output_type": "stream",
     "text": [
      "+----------------------------------------------------+\n",
      "|total_sold                                          |\n",
      "+----------------------------------------------------+\n",
      "|SMILEKEYCHAIN                                       |\n",
      "| MAGNESIUM NITRATE                                  |\n",
      "| ETHYLHEXYLGLYCERIN                                 |\n",
      "|C465761050E04A218EA69993FE7E4B69                    |\n",
      "| XANTHAN GUM                                        |\n",
      "| DRY FUELS                                          |\n",
      "| MAGNESIUM NITRATE                                  |\n",
      "| IT CAN TAKE AWAY THE MAKEUP ON THE FACE MORE EASILY|\n",
      "|ARABIC                                              |\n",
      "| SODIUM POLYACRYLATE                                |\n",
      "+----------------------------------------------------+\n",
      "only showing top 10 rows\n"
     ]
    }
   ],
   "source": [
    "df_trans2.filter(length(col(\"total_sold\")) > 5) \\\n",
    "    .select(\"total_sold\").show(10, truncate=False)"
   ]
  },
  {
   "cell_type": "code",
   "execution_count": 0,
   "metadata": {
    "application/vnd.databricks.v1+cell": {
     "cellMetadata": {
      "byteLimit": 2048000,
      "rowLimit": 10000
     },
     "inputWidgets": {},
     "nuid": "b377c68c-ce7e-477d-9455-342c88739fc5",
     "showTitle": false,
     "tableResultSettingsMap": {},
     "title": ""
    }
   },
   "outputs": [],
   "source": [
    "from pyspark.sql.functions import regexp_extract\n",
    "\n",
    "df_trans3 = df_trans2.withColumn(\n",
    "    \"total_sold\",\n",
    "    regexp_extract(trim(col(\"total_sold\")), \"([0-9]+\\\\.?[0-9]*)\", 1)\n",
    ")"
   ]
  },
  {
   "cell_type": "code",
   "execution_count": 0,
   "metadata": {
    "application/vnd.databricks.v1+cell": {
     "cellMetadata": {
      "byteLimit": 2048000,
      "rowLimit": 10000
     },
     "inputWidgets": {},
     "nuid": "0be5fc3c-f241-45db-a192-9d0d9f4ca031",
     "showTitle": false,
     "tableResultSettingsMap": {},
     "title": ""
    }
   },
   "outputs": [
    {
     "name": "stdout",
     "output_type": "stream",
     "text": [
      "+----------+\n",
      "|total_sold|\n",
      "+----------+\n",
      "|2.3       |\n",
      "|61        |\n",
      "|103       |\n",
      "|1.4       |\n",
      "|126       |\n",
      "|93        |\n",
      "|0         |\n",
      "|2.2       |\n",
      "|NULL      |\n",
      "|406       |\n",
      "+----------+\n",
      "only showing top 10 rows\n"
     ]
    }
   ],
   "source": [
    "df_trans3.select(\"total_sold\").distinct().show(10, truncate=False)"
   ]
  },
  {
   "cell_type": "code",
   "execution_count": 0,
   "metadata": {
    "application/vnd.databricks.v1+cell": {
     "cellMetadata": {
      "byteLimit": 2048000,
      "rowLimit": 10000
     },
     "inputWidgets": {},
     "nuid": "bcc2a0aa-dbc3-4347-9d1c-efb274ecc03d",
     "showTitle": false,
     "tableResultSettingsMap": {},
     "title": ""
    }
   },
   "outputs": [
    {
     "name": "stdout",
     "output_type": "stream",
     "text": [
      "+----------+\n",
      "|total_sold|\n",
      "+----------+\n",
      "|          |\n",
      "|          |\n",
      "|          |\n",
      "|          |\n",
      "|          |\n",
      "|          |\n",
      "|          |\n",
      "|          |\n",
      "|          |\n",
      "|          |\n",
      "+----------+\n",
      "only showing top 10 rows\n"
     ]
    }
   ],
   "source": [
    "df_trans3.filter(col(\"total_sold\") == \"\") \\\n",
    "    .select(\"total_sold\").show(10, truncate=False)"
   ]
  },
  {
   "cell_type": "code",
   "execution_count": 0,
   "metadata": {
    "application/vnd.databricks.v1+cell": {
     "cellMetadata": {
      "byteLimit": 2048000,
      "rowLimit": 10000
     },
     "inputWidgets": {},
     "nuid": "d59ca0da-a935-4265-9f61-26b6f41dfa2d",
     "showTitle": false,
     "tableResultSettingsMap": {},
     "title": ""
    }
   },
   "outputs": [],
   "source": [
    "# df_trans = df_trans.withColumn(\"total_sold\", upper(col(\"total_sold\")))\n",
    "\"\"\"\n",
    "Cleansing data total_sold\n",
    "\"\"\"\n",
    "\n",
    "df_trans3 = df_trans3.withColumn(\n",
    "    \"total_sold\", \n",
    "    when(col(\"total_sold\") == \"\", None).otherwise(col(\"total_sold\")))\n"
   ]
  },
  {
   "cell_type": "code",
   "execution_count": 0,
   "metadata": {
    "application/vnd.databricks.v1+cell": {
     "cellMetadata": {
      "byteLimit": 2048000,
      "rowLimit": 10000
     },
     "inputWidgets": {},
     "nuid": "1da97320-def7-4ee9-b812-cb807a0abbae",
     "showTitle": false,
     "tableResultSettingsMap": {},
     "title": ""
    }
   },
   "outputs": [
    {
     "name": "stdout",
     "output_type": "stream",
     "text": [
      "+----------+\n",
      "|total_sold|\n",
      "+----------+\n",
      "|2.3       |\n",
      "|61        |\n",
      "|103       |\n",
      "|1.4       |\n",
      "|126       |\n",
      "|93        |\n",
      "|0         |\n",
      "|2.2       |\n",
      "|NULL      |\n",
      "|406       |\n",
      "+----------+\n",
      "only showing top 10 rows\n"
     ]
    }
   ],
   "source": [
    "df_trans3.select(\"total_sold\").distinct().show(10, truncate=False)"
   ]
  },
  {
   "cell_type": "code",
   "execution_count": 0,
   "metadata": {
    "application/vnd.databricks.v1+cell": {
     "cellMetadata": {
      "byteLimit": 2048000,
      "rowLimit": 10000
     },
     "inputWidgets": {},
     "nuid": "cd5120fb-d63f-474c-831d-97c14996ec27",
     "showTitle": false,
     "tableResultSettingsMap": {},
     "title": ""
    }
   },
   "outputs": [],
   "source": [
    "df_trans3 = df_trans3.withColumn(\n",
    "    \"total_sold\", \n",
    "    col(\"total_sold\").cast(\"double\")\n",
    ")"
   ]
  },
  {
   "cell_type": "code",
   "execution_count": 0,
   "metadata": {
    "application/vnd.databricks.v1+cell": {
     "cellMetadata": {
      "byteLimit": 2048000,
      "rowLimit": 10000
     },
     "inputWidgets": {},
     "nuid": "2aa52825-51e8-4d53-b2e0-3b101eb7a910",
     "showTitle": false,
     "tableResultSettingsMap": {},
     "title": ""
    }
   },
   "outputs": [
    {
     "name": "stdout",
     "output_type": "stream",
     "text": [
      "+----------+\n",
      "|total_sold|\n",
      "+----------+\n",
      "|481.0     |\n",
      "|948.0     |\n",
      "|1.2       |\n",
      "|2.3       |\n",
      "|97.0      |\n",
      "+----------+\n",
      "only showing top 5 rows\n"
     ]
    }
   ],
   "source": [
    "df_trans3.select(\"total_sold\").distinct().show(5, truncate = False)"
   ]
  },
  {
   "cell_type": "code",
   "execution_count": 0,
   "metadata": {
    "application/vnd.databricks.v1+cell": {
     "cellMetadata": {
      "byteLimit": 2048000,
      "rowLimit": 10000
     },
     "inputWidgets": {},
     "nuid": "9607e0e9-79b8-49c4-9da5-c7c6bf1b5049",
     "showTitle": false,
     "tableResultSettingsMap": {},
     "title": ""
    }
   },
   "outputs": [
    {
     "name": "stdout",
     "output_type": "stream",
     "text": [
      "root\n",
      " |-- price_ori: double (nullable = true)\n",
      " |-- delivery: string (nullable = true)\n",
      " |-- item_category_detail: string (nullable = true)\n",
      " |-- specification: string (nullable = true)\n",
      " |-- title: string (nullable = true)\n",
      " |-- w_date: string (nullable = true)\n",
      " |-- link_ori: string (nullable = true)\n",
      " |-- item_rating: string (nullable = true)\n",
      " |-- seller_name: string (nullable = true)\n",
      " |-- idElastic: string (nullable = true)\n",
      " |-- price_actual: double (nullable = true)\n",
      " |-- sitename: string (nullable = true)\n",
      " |-- idHash: string (nullable = true)\n",
      " |-- total_rating: double (nullable = true)\n",
      " |-- id: string (nullable = true)\n",
      " |-- total_sold: double (nullable = true)\n",
      " |-- pict_link: string (nullable = true)\n",
      " |-- favorite: string (nullable = true)\n",
      " |-- timestamp: string (nullable = true)\n",
      " |-- desc: string (nullable = true)\n",
      " |-- main_category: string (nullable = true)\n",
      " |-- sub_category: string (nullable = true)\n",
      " |-- specific_category: string (nullable = true)\n",
      "\n"
     ]
    }
   ],
   "source": [
    "df_trans3.printSchema()"
   ]
  },
  {
   "cell_type": "markdown",
   "metadata": {},
   "source": [
    "#### Clean & Transform item_rating"
   ]
  },
  {
   "cell_type": "code",
   "execution_count": 0,
   "metadata": {
    "application/vnd.databricks.v1+cell": {
     "cellMetadata": {
      "byteLimit": 2048000,
      "rowLimit": 10000
     },
     "inputWidgets": {},
     "nuid": "ddbf61c1-5a37-4390-8470-a340506ed49b",
     "showTitle": false,
     "tableResultSettingsMap": {},
     "title": ""
    }
   },
   "outputs": [
    {
     "name": "stdout",
     "output_type": "stream",
     "text": [
      "+---------------------------------------+\n",
      "|item_rating                            |\n",
      "+---------------------------------------+\n",
      "| cool                                  |\n",
      "|cutekeychain                           |\n",
      "| soup                                  |\n",
      "| Live Streaming                        |\n",
      "|NULL                                   |\n",
      "| metal                                 |\n",
      "| Methylparaben                         |\n",
      "| outdoors                              |\n",
      "|4.7                                    |\n",
      "| dating.                               |\n",
      "|4.4                                    |\n",
      "| navigation systems                    |\n",
      "| Tablet PC or anywhere you can imagine.|\n",
      "| gamepad                               |\n",
      "|4.0                                    |\n",
      "|4.9                                    |\n",
      "| 5XL                                   |\n",
      "| Phosphorus                            |\n",
      "| thank you for your support.           |\n",
      "| Fresh Green                           |\n",
      "+---------------------------------------+\n",
      "only showing top 20 rows\n"
     ]
    }
   ],
   "source": [
    "df_trans3.select(\"item_rating\").distinct().show(20, truncate = False)"
   ]
  },
  {
   "cell_type": "code",
   "execution_count": 0,
   "metadata": {
    "application/vnd.databricks.v1+cell": {
     "cellMetadata": {
      "byteLimit": 2048000,
      "rowLimit": 10000
     },
     "inputWidgets": {},
     "nuid": "76123095-0082-47f9-90dd-aaa213f3bcad",
     "showTitle": false,
     "tableResultSettingsMap": {},
     "title": ""
    }
   },
   "outputs": [],
   "source": [
    "df_trans4 = df_trans3.withColumn(\n",
    "    \"item_rating\",\n",
    "    regexp_extract(trim(col(\"item_rating\")), \"([0-9]+\\\\.?[0-9]*)\", 1)\n",
    ")"
   ]
  },
  {
   "cell_type": "code",
   "execution_count": 0,
   "metadata": {
    "application/vnd.databricks.v1+cell": {
     "cellMetadata": {
      "byteLimit": 2048000,
      "rowLimit": 10000
     },
     "inputWidgets": {},
     "nuid": "6a365790-c924-459e-a650-476b58c12bfa",
     "showTitle": false,
     "tableResultSettingsMap": {},
     "title": ""
    }
   },
   "outputs": [
    {
     "name": "stdout",
     "output_type": "stream",
     "text": [
      "+---------------------+\n",
      "|item_rating          |\n",
      "+---------------------+\n",
      "|35803                |\n",
      "|802.11               |\n",
      "|77891                |\n",
      "|43000                |\n",
      "|91036                |\n",
      "|2815.6               |\n",
      "|19538418772          |\n",
      "|143018185.22635082191|\n",
      "|35790                |\n",
      "|26.04                |\n",
      "+---------------------+\n",
      "\n"
     ]
    }
   ],
   "source": [
    "df_trans4.filter(length(col(\"item_rating\")) > 4) \\\n",
    "    .select(\"item_rating\").distinct().show(20, truncate = False)"
   ]
  },
  {
   "cell_type": "code",
   "execution_count": 0,
   "metadata": {
    "application/vnd.databricks.v1+cell": {
     "cellMetadata": {
      "byteLimit": 2048000,
      "rowLimit": 10000
     },
     "inputWidgets": {},
     "nuid": "9e719dd7-1cf9-4004-b6a8-e7596b087e43",
     "showTitle": false,
     "tableResultSettingsMap": {},
     "title": ""
    }
   },
   "outputs": [
    {
     "name": "stdout",
     "output_type": "stream",
     "text": [
      "+---------+--------------------+--------------------+--------------------+--------------------+----------+--------------------+-----------+------------+--------------------+------------+--------+--------------------+------------+--------------------+----------+--------------------+-------------+-------------+--------------------+-------------+-------------+-----------------+\n",
      "|price_ori|            delivery|item_category_detail|       specification|               title|    w_date|            link_ori|item_rating| seller_name|           idElastic|price_actual|sitename|              idHash|total_rating|                  id|total_sold|           pict_link|     favorite|    timestamp|                desc|main_category| sub_category|specific_category|\n",
      "+---------+--------------------+--------------------+--------------------+--------------------+----------+--------------------+-----------+------------+--------------------+------------+--------+--------------------+------------+--------------------+----------+--------------------+-------------+-------------+--------------------+-------------+-------------+-----------------+\n",
      "|    179.0|KL City, Kuala Lu...|Shopee | Women's ...|Product Specifica...|1081 PU SLING BAG...|2023-04-27|https://shopee.co...|        4.9|qqfwholesale|19ec9fdedd9fe3e14...|        NULL|  shopee|88f051f0a2dcf0d29...|       179.0|88f051f0a2dcf0d29...|     179.0|https://down-my.i...|Favorite (128|1682553600000|🎉 WELCOME To QQF...| Women's Bags|Shoulder Bags|    Shoulder Bags|\n",
      "|     NULL|                NULL|                NULL|                NULL|                NULL|      NULL|                NULL|       NULL|        NULL|                NULL|        NULL|    NULL|                NULL|        NULL|                NULL|      NULL|                NULL|         NULL|         NULL|                NULL|         NULL|         NULL|             NULL|\n",
      "|     NULL|                NULL|                NULL|                NULL|                NULL|      NULL|                NULL|       NULL|        NULL|                NULL|        NULL|    NULL|                NULL|        NULL|                NULL|      NULL|                NULL|         NULL|         NULL|                NULL|         NULL|         NULL|             NULL|\n",
      "|     NULL|                NULL|                NULL|                NULL|                NULL|      NULL|                NULL|       NULL|        NULL|                NULL|        NULL|    NULL|                NULL|        NULL|                NULL|      NULL|                NULL|         NULL|         NULL|                NULL|         NULL|         NULL|             NULL|\n",
      "|     NULL|                NULL|                NULL|                NULL|                NULL|      NULL|                NULL|       NULL|        NULL|                NULL|        NULL|    NULL|                NULL|        NULL|                NULL|      NULL|                NULL|         NULL|         NULL|                NULL|         NULL|         NULL|             NULL|\n",
      "+---------+--------------------+--------------------+--------------------+--------------------+----------+--------------------+-----------+------------+--------------------+------------+--------+--------------------+------------+--------------------+----------+--------------------+-------------+-------------+--------------------+-------------+-------------+-----------------+\n",
      "only showing top 5 rows\n"
     ]
    }
   ],
   "source": [
    "df_trans4.show(5)"
   ]
  },
  {
   "cell_type": "code",
   "execution_count": 0,
   "metadata": {
    "application/vnd.databricks.v1+cell": {
     "cellMetadata": {
      "byteLimit": 2048000,
      "rowLimit": 10000
     },
     "inputWidgets": {},
     "nuid": "04a8f2bd-8faa-4a19-855c-aef9fc9b372d",
     "showTitle": false,
     "tableResultSettingsMap": {},
     "title": ""
    }
   },
   "outputs": [
    {
     "name": "stdout",
     "output_type": "stream",
     "text": [
      "root\n",
      " |-- price_ori: double (nullable = true)\n",
      " |-- delivery: string (nullable = true)\n",
      " |-- item_category_detail: string (nullable = true)\n",
      " |-- specification: string (nullable = true)\n",
      " |-- title: string (nullable = true)\n",
      " |-- w_date: string (nullable = true)\n",
      " |-- link_ori: string (nullable = true)\n",
      " |-- item_rating: string (nullable = true)\n",
      " |-- seller_name: string (nullable = true)\n",
      " |-- idElastic: string (nullable = true)\n",
      " |-- price_actual: double (nullable = true)\n",
      " |-- sitename: string (nullable = true)\n",
      " |-- total_rating: double (nullable = true)\n",
      " |-- id: string (nullable = true)\n",
      " |-- total_sold: double (nullable = true)\n",
      " |-- pict_link: string (nullable = true)\n",
      " |-- favorite: string (nullable = true)\n",
      " |-- timestamp: string (nullable = true)\n",
      " |-- desc: string (nullable = true)\n",
      " |-- main_category: string (nullable = true)\n",
      " |-- sub_category: string (nullable = true)\n",
      " |-- specific_category: string (nullable = true)\n",
      "\n"
     ]
    }
   ],
   "source": [
    "df_trans4 = df_trans4.drop(\"idHash\")\n",
    "df_trans4.printSchema()"
   ]
  },
  {
   "cell_type": "code",
   "execution_count": 0,
   "metadata": {
    "application/vnd.databricks.v1+cell": {
     "cellMetadata": {
      "byteLimit": 2048000,
      "rowLimit": 10000
     },
     "inputWidgets": {},
     "nuid": "090bca2b-c7e1-4059-afa4-498be9b666ff",
     "showTitle": false,
     "tableResultSettingsMap": {},
     "title": ""
    }
   },
   "outputs": [
    {
     "name": "stdout",
     "output_type": "stream",
     "text": [
      "+---------+------------+--------------------+--------------------+--------------------+-------------------+-----------------+--------------------+--------------------+----------+\n",
      "|price_ori|price_actual|            delivery|               title|       main_category|       sub_category|specific_category|                  id|           idElastic|    w_date|\n",
      "+---------+------------+--------------------+--------------------+--------------------+-------------------+-----------------+--------------------+--------------------+----------+\n",
      "|     NULL|        NULL| practical and be...|                NULL|                NULL|               NULL|             NULL|                NULL|                NULL|      NULL|\n",
      "|     NULL|        NULL|               Black|Gray-Blue(As Pict...|                NULL|               NULL|             NULL|                NULL|                NULL|      NULL|\n",
      "|     NULL|        NULL|known as Laid Fla...|                NULL|                NULL|               NULL|             NULL|                NULL|                NULL|      NULL|\n",
      "|     NULL|        NULL|           Vitamin B| Manganese and Co...|                NULL|               NULL|             NULL|                NULL|                NULL|      NULL|\n",
      "|   1200.0|        NULL|                NULL|Men's Seamless Ic...|         Men Clothes|T-shirts & Singlets|         T-Shirts|e67d390a35272dcbd...|6be8a74cb7e03d7cc...|2023-04-24|\n",
      "|   3200.0|        NULL|                NULL|Ready Stock. Kasu...|           Men Shoes|             Others|           Others|9e49eff991cf8de2a...|e38f510cce093106d...|2023-04-24|\n",
      "|     NULL|        NULL| semakin gelap la...|                NULL|                NULL|               NULL|             NULL|                NULL|                NULL|      NULL|\n",
      "|     NULL|        NULL|              autumn|                NULL|                NULL|               NULL|             NULL|                NULL|                NULL|      NULL|\n",
      "|     NULL|        NULL|               5V/2A|                NULL|                NULL|               NULL|             NULL|                NULL|                NULL|      NULL|\n",
      "|     NULL|        NULL|                 PiP|                NULL|                NULL|               NULL|             NULL|                NULL|                NULL|      NULL|\n",
      "|     NULL|        NULL| sunlight and toxins|                NULL|                NULL|               NULL|             NULL|                NULL|                NULL|      NULL|\n",
      "|   1800.0|        NULL|                NULL|🌸Ready Stock🌸Ca...|Mobile & Accessories| Selfie Accessories|Shutters & Lenses|ca1335ed6ec18add3...|613edb2ccb7dbc677...|2023-04-24|\n",
      "|    174.0|        NULL|                NULL|T-shirt  Murah de...|         Men Clothes|T-shirts & Singlets|         T-Shirts|2edace1d9460c3bcd...|ad36aa116d369919e...|2023-04-24|\n",
      "|     NULL|        NULL| anti-acid and an...|                NULL|                NULL|               NULL|             NULL|                NULL|                NULL|      NULL|\n",
      "|     NULL|        NULL| please give us a...|                NULL|                NULL|               NULL|             NULL|                NULL|                NULL|      NULL|\n",
      "|     NULL|        NULL|    not couple(2pcs)|          thank you.|                NULL|               NULL|             NULL|                NULL|                NULL|      NULL|\n",
      "|     NULL|        NULL| it features a fl...|                NULL|                NULL|               NULL|             NULL|                NULL|                NULL|      NULL|\n",
      "|     NULL|        NULL| 2 Gears For Disp...|                NULL|                NULL|               NULL|             NULL|                NULL|                NULL|      NULL|\n",
      "|     NULL|        NULL|                gray|                NULL|                NULL|               NULL|             NULL|                NULL|                NULL|      NULL|\n",
      "|     NULL|        NULL| please select th...|                NULL|                NULL|               NULL|             NULL|                NULL|                NULL|      NULL|\n",
      "+---------+------------+--------------------+--------------------+--------------------+-------------------+-----------------+--------------------+--------------------+----------+\n",
      "only showing top 20 rows\n"
     ]
    }
   ],
   "source": [
    "df_trans4.select(\"price_ori\", \"price_actual\", \"delivery\", \"title\", \"main_category\", \"sub_category\", \"specific_category\", \"id\", \"idElastic\", \"w_date\").distinct().show(20)"
   ]
  },
  {
   "cell_type": "code",
   "execution_count": 0,
   "metadata": {
    "application/vnd.databricks.v1+cell": {
     "cellMetadata": {
      "byteLimit": 2048000,
      "rowLimit": 10000
     },
     "inputWidgets": {},
     "nuid": "3b33d362-6e1f-48ef-aa2e-da63d46b2a03",
     "showTitle": false,
     "tableResultSettingsMap": {},
     "title": ""
    }
   },
   "outputs": [
    {
     "name": "stdout",
     "output_type": "stream",
     "text": [
      "root\n",
      " |-- price_ori: double (nullable = true)\n",
      " |-- delivery: string (nullable = true)\n",
      " |-- specification: string (nullable = true)\n",
      " |-- title: string (nullable = true)\n",
      " |-- w_date: string (nullable = true)\n",
      " |-- link_ori: string (nullable = true)\n",
      " |-- item_rating: string (nullable = true)\n",
      " |-- seller_name: string (nullable = true)\n",
      " |-- idElastic: string (nullable = true)\n",
      " |-- price_actual: double (nullable = true)\n",
      " |-- sitename: string (nullable = true)\n",
      " |-- total_rating: double (nullable = true)\n",
      " |-- id: string (nullable = true)\n",
      " |-- total_sold: double (nullable = true)\n",
      " |-- pict_link: string (nullable = true)\n",
      " |-- favorite: string (nullable = true)\n",
      " |-- timestamp: string (nullable = true)\n",
      " |-- desc: string (nullable = true)\n",
      " |-- main_category: string (nullable = true)\n",
      " |-- sub_category: string (nullable = true)\n",
      " |-- specific_category: string (nullable = true)\n",
      "\n"
     ]
    }
   ],
   "source": [
    "df_trans4 = df_trans4.drop(\"item_category_detail\")\n",
    "df_trans4.printSchema()"
   ]
  },
  {
   "cell_type": "markdown",
   "metadata": {},
   "source": [
    "## Save to Data Lake Storage Gen 2 "
   ]
  },
  {
   "cell_type": "code",
   "execution_count": 0,
   "metadata": {
    "application/vnd.databricks.v1+cell": {
     "cellMetadata": {
      "byteLimit": 2048000,
      "rowLimit": 10000
     },
     "inputWidgets": {},
     "nuid": "215f74af-a51e-4ee3-adf4-3c7a2463be5f",
     "showTitle": false,
     "tableResultSettingsMap": {},
     "title": ""
    }
   },
   "outputs": [
    {
     "name": "stdout",
     "output_type": "stream",
     "text": [
      "success!!!\n"
     ]
    }
   ],
   "source": [
    "df_final = df_trans4\n",
    "\n",
    "df_final.write.format(\"parquet\").mode(\"overwrite\").save(output_path)\n",
    "print(\"success!!!\")"
   ]
  },
  {
   "cell_type": "code",
   "execution_count": 0,
   "metadata": {
    "application/vnd.databricks.v1+cell": {
     "cellMetadata": {
      "byteLimit": 2048000,
      "rowLimit": 10000
     },
     "inputWidgets": {},
     "nuid": "67521add-d398-4f02-8dff-5cb4972ec791",
     "showTitle": false,
     "tableResultSettingsMap": {},
     "title": ""
    }
   },
   "outputs": [
    {
     "name": "stdout",
     "output_type": "stream",
     "text": [
      "/bin/bash: line 1: cd: dbfs: No such file or directory\r\n"
     ]
    }
   ],
   "source": []
  },
  {
   "cell_type": "code",
   "execution_count": 0,
   "metadata": {
    "application/vnd.databricks.v1+cell": {
     "cellMetadata": {},
     "inputWidgets": {},
     "nuid": "5fd8cc5c-8efa-43ad-b87b-b96748941deb",
     "showTitle": false,
     "tableResultSettingsMap": {},
     "title": ""
    }
   },
   "outputs": [],
   "source": []
  }
 ],
 "metadata": {
  "application/vnd.databricks.v1+notebook": {
   "computePreferences": null,
   "dashboards": [],
   "environmentMetadata": {
    "base_environment": "",
    "environment_version": "3"
   },
   "inputWidgetPreferences": null,
   "language": "python",
   "notebookMetadata": {
    "pythonIndentUnit": 4
   },
   "notebookName": "Spark-Shopee",
   "widgets": {}
  },
  "language_info": {
   "name": "python"
  }
 },
 "nbformat": 4,
 "nbformat_minor": 0
}
